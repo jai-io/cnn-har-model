{
 "cells": [
  {
   "cell_type": "code",
   "execution_count": 17,
   "metadata": {
    "pycharm": {
     "is_executing": false
    }
   },
   "outputs": [],
   "source": [
    "import pandas as pd\n",
    "import numpy as np\n",
    "from keras.models import model_from_json"
   ]
  },
  {
   "cell_type": "code",
   "execution_count": 18,
   "metadata": {
    "pycharm": {
     "is_executing": false
    }
   },
   "outputs": [],
   "source": [
    "COLUMNS = ['x-axis', 'y-axis', 'z-axis']\n",
    "LABELS = ['Downstairs', 'Jogging', 'Sitting', 'Standing', 'Upstairs', 'Walking']\n",
    "MODEL_PATH = \"../models/model.json\"\n",
    "WEIGHTS_PATH = \"../models/model.h5\""
   ]
  },
  {
   "cell_type": "code",
   "execution_count": 19,
   "metadata": {
    "pycharm": {
     "is_executing": false
    }
   },
   "outputs": [],
   "source": [
    "def process_and_load_WISDM_file_to_memory(file_path):\n",
    "    dataset = pd.read_csv(file_path, header=None, names=LABELS)\n",
    "    dataset = dataset.dropna(inplace=False)\n",
    "    dataset = dataset.round({'x-axis': 5, 'y-axis': 5, 'z-axis': 5})\n",
    "    return dataset\n",
    "\n",
    "\n",
    "def create_data_segmentation(dataset, window, increment):\n",
    "    segmented_dataset = []\n",
    "\n",
    "    for i in range(0, len(dataset) - window, increment):\n",
    "        x_axis = dataset['x-axis'].values[i: i + window]\n",
    "        y_axis = dataset['y-axis'].values[i: i + window]\n",
    "        z_axis = dataset['z-axis'].values[i: i + window]\n",
    "        segmented_dataset.append([x_axis, y_axis, z_axis])\n",
    "\n",
    "    segmented_dataset = np.asarray(segmented_dataset, dtype=np.float32)\n",
    "    transposed_segments = segmented_dataset.reshape(-1, window, 3)\n",
    "    return transposed_segments\n",
    "\n",
    "\n",
    "def load_model(model_path, weights_path):\n",
    "    json_file = open(model_path, 'r')\n",
    "    loaded_model = json_file.read()\n",
    "    json_file.close()\n",
    "    loaded_model = model_from_json(loaded_model)\n",
    "    loaded_model.load_weights(weights_path)\n",
    "    return loaded_model\n",
    "\n",
    "\n",
    "def process_raw_data(path):\n",
    "    df = pd.read_csv(path, header=None, names=COLUMNS)\n",
    "    return df\n",
    "\n",
    "\n",
    "def classify_activity(model, processed_data):\n",
    "    keras_prediction = np.argmax(model.predict(processed_data), axis=1)\n",
    "    return LABELS[keras_prediction[0]]"
   ]
  },
  {
   "cell_type": "code",
   "execution_count": 20,
   "metadata": {
    "pycharm": {
     "is_executing": false,
     "name": "#%%\n"
    }
   },
   "outputs": [
    {
     "name": "stdout",
     "text": [
      "raw_standing.txt\n",
      "Standing\n",
      "\n",
      "raw_sitting.txt\n",
      "Sitting\n",
      "\n",
      "raw_walking.txt\n",
      "Standing\n",
      "\n",
      "raw_downstairs.txt\n",
      "Downstairs\n",
      "\n",
      "raw_upstairs.txt\n",
      "Upstairs\n",
      "\n",
      "raw_jogging.txt\n",
      "Jogging\n",
      "\n"
     ],
     "output_type": "stream"
    }
   ],
   "source": [
    "paths = ['raw_standing.txt','raw_sitting.txt','raw_walking.txt',\n",
    "         'raw_downstairs.txt','raw_upstairs.txt','raw_jogging.txt']\n",
    "\n",
    "for path in paths:\n",
    "    model = load_model(MODEL_PATH, WEIGHTS_PATH)\n",
    "    raw_data = process_raw_data(\"../data/iPhone_raw/\"+path)\n",
    "    segmented_data = create_data_segmentation(raw_data, 200, 20)\n",
    "    output = classify_activity(model, segmented_data)\n",
    "    print(path)\n",
    "    print(output+\"\\n\")"
   ]
  }
 ],
 "metadata": {
  "kernelspec": {
   "display_name": "Python 3",
   "language": "python",
   "name": "python3"
  },
  "language_info": {
   "codemirror_mode": {
    "name": "ipython",
    "version": 3
   },
   "file_extension": ".py",
   "mimetype": "text/x-python",
   "name": "python",
   "nbconvert_exporter": "python",
   "pygments_lexer": "ipython3",
   "version": "3.6.7"
  },
  "pycharm": {
   "stem_cell": {
    "cell_type": "raw",
    "source": [],
    "metadata": {
     "collapsed": false
    }
   }
  }
 },
 "nbformat": 4,
 "nbformat_minor": 4
}